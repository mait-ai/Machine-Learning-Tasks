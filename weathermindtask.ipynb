{
  "cells": [
    {
      "cell_type": "markdown",
      "metadata": {
        "id": "cHy-Q9zg0t0T"
      },
      "source": [
        "#  Task 2 : The Rise of the WeatherMind"
      ]
    },
    {
      "cell_type": "markdown",
      "metadata": {
        "id": "nO1FMROOy6vN"
      },
      "source": [
        "#### **Level 1: Awakening WeatherMind**\n",
        "\n",
        "####  Objective\n",
        "- Construct a LangGraph node called `chatbot`, powered by a Language Model (Groq used in this case).\n",
        "- Integrate a companion tool: the `calculator`, supporting basic arithmetic with BODMAS logic.\n",
        "- Visualize the LangGraph as an image—representing the AI skeleton coming to life.\n"
      ]
    },
    {
      "cell_type": "code",
      "execution_count": 227,
      "metadata": {
        "colab": {
          "base_uri": "https://localhost:8080/"
        },
        "id": "KS-ViJPWnaz-",
        "outputId": "ce0ad541-073e-402b-ede4-144e3d191789"
      },
      "outputs": [
        {
          "name": "stdout",
          "output_type": "stream",
          "text": [
            "Requirement already satisfied: langgraph in /usr/local/lib/python3.11/dist-packages (0.4.7)\n",
            "Requirement already satisfied: langsmith in /usr/local/lib/python3.11/dist-packages (0.3.42)\n",
            "Requirement already satisfied: langchain-core>=0.1 in /usr/local/lib/python3.11/dist-packages (from langgraph) (0.3.59)\n",
            "Requirement already satisfied: langgraph-checkpoint>=2.0.26 in /usr/local/lib/python3.11/dist-packages (from langgraph) (2.0.26)\n",
            "Requirement already satisfied: langgraph-prebuilt>=0.2.0 in /usr/local/lib/python3.11/dist-packages (from langgraph) (0.2.1)\n",
            "Requirement already satisfied: langgraph-sdk>=0.1.42 in /usr/local/lib/python3.11/dist-packages (from langgraph) (0.1.70)\n",
            "Requirement already satisfied: pydantic>=2.7.4 in /usr/local/lib/python3.11/dist-packages (from langgraph) (2.11.4)\n",
            "Requirement already satisfied: xxhash>=3.5.0 in /usr/local/lib/python3.11/dist-packages (from langgraph) (3.5.0)\n",
            "Requirement already satisfied: httpx<1,>=0.23.0 in /usr/local/lib/python3.11/dist-packages (from langsmith) (0.28.1)\n",
            "Requirement already satisfied: orjson<4.0.0,>=3.9.14 in /usr/local/lib/python3.11/dist-packages (from langsmith) (3.10.18)\n",
            "Requirement already satisfied: packaging>=23.2 in /usr/local/lib/python3.11/dist-packages (from langsmith) (24.2)\n",
            "Requirement already satisfied: requests<3,>=2 in /usr/local/lib/python3.11/dist-packages (from langsmith) (2.32.3)\n",
            "Requirement already satisfied: requests-toolbelt<2.0.0,>=1.0.0 in /usr/local/lib/python3.11/dist-packages (from langsmith) (1.0.0)\n",
            "Requirement already satisfied: zstandard<0.24.0,>=0.23.0 in /usr/local/lib/python3.11/dist-packages (from langsmith) (0.23.0)\n",
            "Requirement already satisfied: anyio in /usr/local/lib/python3.11/dist-packages (from httpx<1,>=0.23.0->langsmith) (4.9.0)\n",
            "Requirement already satisfied: certifi in /usr/local/lib/python3.11/dist-packages (from httpx<1,>=0.23.0->langsmith) (2025.4.26)\n",
            "Requirement already satisfied: httpcore==1.* in /usr/local/lib/python3.11/dist-packages (from httpx<1,>=0.23.0->langsmith) (1.0.9)\n",
            "Requirement already satisfied: idna in /usr/local/lib/python3.11/dist-packages (from httpx<1,>=0.23.0->langsmith) (3.10)\n",
            "Requirement already satisfied: h11>=0.16 in /usr/local/lib/python3.11/dist-packages (from httpcore==1.*->httpx<1,>=0.23.0->langsmith) (0.16.0)\n",
            "Requirement already satisfied: tenacity!=8.4.0,<10.0.0,>=8.1.0 in /usr/local/lib/python3.11/dist-packages (from langchain-core>=0.1->langgraph) (9.1.2)\n",
            "Requirement already satisfied: jsonpatch<2.0,>=1.33 in /usr/local/lib/python3.11/dist-packages (from langchain-core>=0.1->langgraph) (1.33)\n",
            "Requirement already satisfied: PyYAML>=5.3 in /usr/local/lib/python3.11/dist-packages (from langchain-core>=0.1->langgraph) (6.0.2)\n",
            "Requirement already satisfied: typing-extensions>=4.7 in /usr/local/lib/python3.11/dist-packages (from langchain-core>=0.1->langgraph) (4.13.2)\n",
            "Requirement already satisfied: ormsgpack<2.0.0,>=1.8.0 in /usr/local/lib/python3.11/dist-packages (from langgraph-checkpoint>=2.0.26->langgraph) (1.10.0)\n",
            "Requirement already satisfied: annotated-types>=0.6.0 in /usr/local/lib/python3.11/dist-packages (from pydantic>=2.7.4->langgraph) (0.7.0)\n",
            "Requirement already satisfied: pydantic-core==2.33.2 in /usr/local/lib/python3.11/dist-packages (from pydantic>=2.7.4->langgraph) (2.33.2)\n",
            "Requirement already satisfied: typing-inspection>=0.4.0 in /usr/local/lib/python3.11/dist-packages (from pydantic>=2.7.4->langgraph) (0.4.0)\n",
            "Requirement already satisfied: charset-normalizer<4,>=2 in /usr/local/lib/python3.11/dist-packages (from requests<3,>=2->langsmith) (3.4.2)\n",
            "Requirement already satisfied: urllib3<3,>=1.21.1 in /usr/local/lib/python3.11/dist-packages (from requests<3,>=2->langsmith) (2.4.0)\n",
            "Requirement already satisfied: jsonpointer>=1.9 in /usr/local/lib/python3.11/dist-packages (from jsonpatch<2.0,>=1.33->langchain-core>=0.1->langgraph) (3.0.0)\n",
            "Requirement already satisfied: sniffio>=1.1 in /usr/local/lib/python3.11/dist-packages (from anyio->httpx<1,>=0.23.0->langsmith) (1.3.1)\n"
          ]
        }
      ],
      "source": [
        "!pip install langgraph langsmith\n"
      ]
    },
    {
      "cell_type": "code",
      "execution_count": 228,
      "metadata": {
        "colab": {
          "base_uri": "https://localhost:8080/"
        },
        "id": "xe_y_ZFEn3l2",
        "outputId": "8e365a9b-3140-4ca1-f316-28a831fc8ca5"
      },
      "outputs": [
        {
          "name": "stdout",
          "output_type": "stream",
          "text": [
            "Requirement already satisfied: langchain in /usr/local/lib/python3.11/dist-packages (0.3.25)\n",
            "Requirement already satisfied: langchain_groq in /usr/local/lib/python3.11/dist-packages (0.3.2)\n",
            "Requirement already satisfied: langchain_community in /usr/local/lib/python3.11/dist-packages (0.3.24)\n",
            "Requirement already satisfied: langchain-core<1.0.0,>=0.3.58 in /usr/local/lib/python3.11/dist-packages (from langchain) (0.3.59)\n",
            "Requirement already satisfied: langchain-text-splitters<1.0.0,>=0.3.8 in /usr/local/lib/python3.11/dist-packages (from langchain) (0.3.8)\n",
            "Requirement already satisfied: langsmith<0.4,>=0.1.17 in /usr/local/lib/python3.11/dist-packages (from langchain) (0.3.42)\n",
            "Requirement already satisfied: pydantic<3.0.0,>=2.7.4 in /usr/local/lib/python3.11/dist-packages (from langchain) (2.11.4)\n",
            "Requirement already satisfied: SQLAlchemy<3,>=1.4 in /usr/local/lib/python3.11/dist-packages (from langchain) (2.0.40)\n",
            "Requirement already satisfied: requests<3,>=2 in /usr/local/lib/python3.11/dist-packages (from langchain) (2.32.3)\n",
            "Requirement already satisfied: PyYAML>=5.3 in /usr/local/lib/python3.11/dist-packages (from langchain) (6.0.2)\n",
            "Requirement already satisfied: groq<1,>=0.4.1 in /usr/local/lib/python3.11/dist-packages (from langchain_groq) (0.25.0)\n",
            "Requirement already satisfied: aiohttp<4.0.0,>=3.8.3 in /usr/local/lib/python3.11/dist-packages (from langchain_community) (3.11.15)\n",
            "Requirement already satisfied: tenacity!=8.4.0,<10,>=8.1.0 in /usr/local/lib/python3.11/dist-packages (from langchain_community) (9.1.2)\n",
            "Requirement already satisfied: dataclasses-json<0.7,>=0.5.7 in /usr/local/lib/python3.11/dist-packages (from langchain_community) (0.6.7)\n",
            "Requirement already satisfied: pydantic-settings<3.0.0,>=2.4.0 in /usr/local/lib/python3.11/dist-packages (from langchain_community) (2.9.1)\n",
            "Requirement already satisfied: httpx-sse<1.0.0,>=0.4.0 in /usr/local/lib/python3.11/dist-packages (from langchain_community) (0.4.0)\n",
            "Requirement already satisfied: numpy>=1.26.2 in /usr/local/lib/python3.11/dist-packages (from langchain_community) (2.0.2)\n",
            "Requirement already satisfied: aiohappyeyeballs>=2.3.0 in /usr/local/lib/python3.11/dist-packages (from aiohttp<4.0.0,>=3.8.3->langchain_community) (2.6.1)\n",
            "Requirement already satisfied: aiosignal>=1.1.2 in /usr/local/lib/python3.11/dist-packages (from aiohttp<4.0.0,>=3.8.3->langchain_community) (1.3.2)\n",
            "Requirement already satisfied: attrs>=17.3.0 in /usr/local/lib/python3.11/dist-packages (from aiohttp<4.0.0,>=3.8.3->langchain_community) (25.3.0)\n",
            "Requirement already satisfied: frozenlist>=1.1.1 in /usr/local/lib/python3.11/dist-packages (from aiohttp<4.0.0,>=3.8.3->langchain_community) (1.6.0)\n",
            "Requirement already satisfied: multidict<7.0,>=4.5 in /usr/local/lib/python3.11/dist-packages (from aiohttp<4.0.0,>=3.8.3->langchain_community) (6.4.3)\n",
            "Requirement already satisfied: propcache>=0.2.0 in /usr/local/lib/python3.11/dist-packages (from aiohttp<4.0.0,>=3.8.3->langchain_community) (0.3.1)\n",
            "Requirement already satisfied: yarl<2.0,>=1.17.0 in /usr/local/lib/python3.11/dist-packages (from aiohttp<4.0.0,>=3.8.3->langchain_community) (1.20.0)\n",
            "Requirement already satisfied: marshmallow<4.0.0,>=3.18.0 in /usr/local/lib/python3.11/dist-packages (from dataclasses-json<0.7,>=0.5.7->langchain_community) (3.26.1)\n",
            "Requirement already satisfied: typing-inspect<1,>=0.4.0 in /usr/local/lib/python3.11/dist-packages (from dataclasses-json<0.7,>=0.5.7->langchain_community) (0.9.0)\n",
            "Requirement already satisfied: anyio<5,>=3.5.0 in /usr/local/lib/python3.11/dist-packages (from groq<1,>=0.4.1->langchain_groq) (4.9.0)\n",
            "Requirement already satisfied: distro<2,>=1.7.0 in /usr/local/lib/python3.11/dist-packages (from groq<1,>=0.4.1->langchain_groq) (1.9.0)\n",
            "Requirement already satisfied: httpx<1,>=0.23.0 in /usr/local/lib/python3.11/dist-packages (from groq<1,>=0.4.1->langchain_groq) (0.28.1)\n",
            "Requirement already satisfied: sniffio in /usr/local/lib/python3.11/dist-packages (from groq<1,>=0.4.1->langchain_groq) (1.3.1)\n",
            "Requirement already satisfied: typing-extensions<5,>=4.10 in /usr/local/lib/python3.11/dist-packages (from groq<1,>=0.4.1->langchain_groq) (4.13.2)\n",
            "Requirement already satisfied: jsonpatch<2.0,>=1.33 in /usr/local/lib/python3.11/dist-packages (from langchain-core<1.0.0,>=0.3.58->langchain) (1.33)\n",
            "Requirement already satisfied: packaging<25,>=23.2 in /usr/local/lib/python3.11/dist-packages (from langchain-core<1.0.0,>=0.3.58->langchain) (24.2)\n",
            "Requirement already satisfied: orjson<4.0.0,>=3.9.14 in /usr/local/lib/python3.11/dist-packages (from langsmith<0.4,>=0.1.17->langchain) (3.10.18)\n",
            "Requirement already satisfied: requests-toolbelt<2.0.0,>=1.0.0 in /usr/local/lib/python3.11/dist-packages (from langsmith<0.4,>=0.1.17->langchain) (1.0.0)\n",
            "Requirement already satisfied: zstandard<0.24.0,>=0.23.0 in /usr/local/lib/python3.11/dist-packages (from langsmith<0.4,>=0.1.17->langchain) (0.23.0)\n",
            "Requirement already satisfied: annotated-types>=0.6.0 in /usr/local/lib/python3.11/dist-packages (from pydantic<3.0.0,>=2.7.4->langchain) (0.7.0)\n",
            "Requirement already satisfied: pydantic-core==2.33.2 in /usr/local/lib/python3.11/dist-packages (from pydantic<3.0.0,>=2.7.4->langchain) (2.33.2)\n",
            "Requirement already satisfied: typing-inspection>=0.4.0 in /usr/local/lib/python3.11/dist-packages (from pydantic<3.0.0,>=2.7.4->langchain) (0.4.0)\n",
            "Requirement already satisfied: python-dotenv>=0.21.0 in /usr/local/lib/python3.11/dist-packages (from pydantic-settings<3.0.0,>=2.4.0->langchain_community) (1.1.0)\n",
            "Requirement already satisfied: charset-normalizer<4,>=2 in /usr/local/lib/python3.11/dist-packages (from requests<3,>=2->langchain) (3.4.2)\n",
            "Requirement already satisfied: idna<4,>=2.5 in /usr/local/lib/python3.11/dist-packages (from requests<3,>=2->langchain) (3.10)\n",
            "Requirement already satisfied: urllib3<3,>=1.21.1 in /usr/local/lib/python3.11/dist-packages (from requests<3,>=2->langchain) (2.4.0)\n",
            "Requirement already satisfied: certifi>=2017.4.17 in /usr/local/lib/python3.11/dist-packages (from requests<3,>=2->langchain) (2025.4.26)\n",
            "Requirement already satisfied: greenlet>=1 in /usr/local/lib/python3.11/dist-packages (from SQLAlchemy<3,>=1.4->langchain) (3.2.2)\n",
            "Requirement already satisfied: httpcore==1.* in /usr/local/lib/python3.11/dist-packages (from httpx<1,>=0.23.0->groq<1,>=0.4.1->langchain_groq) (1.0.9)\n",
            "Requirement already satisfied: h11>=0.16 in /usr/local/lib/python3.11/dist-packages (from httpcore==1.*->httpx<1,>=0.23.0->groq<1,>=0.4.1->langchain_groq) (0.16.0)\n",
            "Requirement already satisfied: jsonpointer>=1.9 in /usr/local/lib/python3.11/dist-packages (from jsonpatch<2.0,>=1.33->langchain-core<1.0.0,>=0.3.58->langchain) (3.0.0)\n",
            "Requirement already satisfied: mypy-extensions>=0.3.0 in /usr/local/lib/python3.11/dist-packages (from typing-inspect<1,>=0.4.0->dataclasses-json<0.7,>=0.5.7->langchain_community) (1.1.0)\n"
          ]
        }
      ],
      "source": [
        "!pip install langchain langchain_groq langchain_community"
      ]
    },
    {
      "cell_type": "code",
      "execution_count": 229,
      "metadata": {
        "id": "rIOnOwtZnASD"
      },
      "outputs": [],
      "source": [
        "!pip install python-dotenv --quiet\n",
        "\n",
        "# Import load_dotenv and os\n",
        "from dotenv import load_dotenv\n",
        "import os\n",
        "\n",
        "# Load the .env file (make sure it’s uploaded in current directory)\n",
        "load_dotenv('.env')\n",
        "## Now read your API key (replace Groq_API_KEY with your variable name)\n",
        "api_key = os.getenv('Groq_API_KEY')\n",
        "# Now read your API key (replace WEATHER_API_KEY with your variable name)\n",
        "weather_api_key = os.getenv('Weather_API_KEY')\n",
        "\n"
      ]
    },
    {
      "cell_type": "code",
      "execution_count": 230,
      "metadata": {
        "id": "voehOKnKKn2H"
      },
      "outputs": [],
      "source": [
        "from typing import Annotated\n",
        "from typing_extensions import TypedDict\n",
        "from langgraph.graph import StateGraph,START,END  # StateGraph manages the state of all the agents\n",
        "from langgraph.graph.message import add_messages # as we keep on adding messages the state of agent goes on changing"
      ]
    },
    {
      "cell_type": "markdown",
      "metadata": {
        "id": "p6aWCwTwzO6P"
      },
      "source": [
        "#### Calculator Tool: The Logic Unit\n",
        "\n",
        "A custom calculator tool is added, enabling the AI to perform basic arithmetic operations following BODMAS rules. It allows the chatbot to solve user-inputted math queries.\n"
      ]
    },
    {
      "cell_type": "code",
      "execution_count": 231,
      "metadata": {
        "id": "II5_1kIZQadM"
      },
      "outputs": [],
      "source": [
        "from langchain_core.tools import tool\n",
        "from langgraph.prebuilt import ToolNode, tools_condition\n"
      ]
    },
    {
      "cell_type": "code",
      "execution_count": 232,
      "metadata": {
        "id": "ZUVCZsiRQdDK"
      },
      "outputs": [],
      "source": [
        "def safe_eval(expr: str) -> float:\n",
        "    \"\"\"\n",
        "    Safely evaluate a basic arithmetic expression using BODMAS rules.\n",
        "    \"\"\"\n",
        "    import math\n",
        "\n",
        "    allowed_names = {\n",
        "        k: v for k, v in vars(math).items() if not k.startswith(\"__\")\n",
        "    }\n",
        "\n",
        "    allowed_names.update({\n",
        "        'abs': abs,\n",
        "        'round': round\n",
        "    })\n",
        "\n",
        "    try:\n",
        "        result = eval(expr, {\"__builtins__\": None}, allowed_names)\n",
        "        return result\n",
        "    except Exception as e:\n",
        "        return f\"Error: {str(e)}\"\n"
      ]
    },
    {
      "cell_type": "code",
      "execution_count": 233,
      "metadata": {
        "id": "IJEf3oxQQpCw"
      },
      "outputs": [],
      "source": [
        "@tool\n",
        "def calculator(expression: str) -> str:\n",
        "    \"\"\"Evaluate a basic arithmetic expression. Supports +, -, *, /, (), and **.\"\"\"\n",
        "    result = safe_eval(expression)\n",
        "    return str(result)"
      ]
    },
    {
      "cell_type": "code",
      "execution_count": 234,
      "metadata": {
        "id": "fhBeXI88DOr2"
      },
      "outputs": [],
      "source": [
        "tools = [calculator]"
      ]
    },
    {
      "cell_type": "markdown",
      "metadata": {
        "id": "TieyRWfazyDU"
      },
      "source": [
        "#### Calculator Tool Test\n",
        "\n",
        "We test the calculator tool with a sample arithmetic query to ensure it correctly evaluates expressions using BODMAS rules. The output confirms the tool is functioning as expected within the LangGraph framework.\n"
      ]
    },
    {
      "cell_type": "code",
      "execution_count": 235,
      "metadata": {
        "colab": {
          "base_uri": "https://localhost:8080/",
          "height": 36
        },
        "id": "Z-aaB5cSSfUZ",
        "outputId": "b77ff8f3-6ac7-4e49-9769-f987417fc205"
      },
      "outputs": [
        {
          "data": {
            "application/vnd.google.colaboratory.intrinsic+json": {
              "type": "string"
            },
            "text/plain": [
              "'13.0'"
            ]
          },
          "execution_count": 235,
          "metadata": {},
          "output_type": "execute_result"
        }
      ],
      "source": [
        "calculator.invoke(\"5/2*4+3\")"
      ]
    },
    {
      "cell_type": "code",
      "execution_count": 236,
      "metadata": {
        "id": "Ra8M_DJbDZN6"
      },
      "outputs": [],
      "source": [
        "#Langgraph application\n",
        "class State(TypedDict) :\n",
        "  # Messages have the type \"list\" The `add_messages` function\n",
        "  #in the annotation defines how this state key should be updated\n",
        "  # ( in this case, it apends messages to the list , rather than overwriting them)\n",
        "  messages: Annotated[list,add_messages]"
      ]
    },
    {
      "cell_type": "code",
      "execution_count": 237,
      "metadata": {
        "id": "9EDgGy1VEAOT"
      },
      "outputs": [],
      "source": [
        "graph_builder= StateGraph(State)"
      ]
    },
    {
      "cell_type": "markdown",
      "metadata": {
        "id": "iRrBh3vAzIRV"
      },
      "source": [
        "#### Chatbot Node using Groq LLM\n",
        "\n",
        "We define a `chatbot` node using the Groq-hosted LLM, which serves as the core conversational engine for WeatherMind. It handles natural language input and determines the required tool or response logic.\n"
      ]
    },
    {
      "cell_type": "code",
      "execution_count": 238,
      "metadata": {
        "id": "LGIQlMhQJPa1"
      },
      "outputs": [],
      "source": [
        "from langchain_groq import ChatGroq"
      ]
    },
    {
      "cell_type": "code",
      "execution_count": 239,
      "metadata": {
        "colab": {
          "base_uri": "https://localhost:8080/"
        },
        "id": "IuzKxkDlJP8k",
        "outputId": "bfee1c76-9c81-4786-9161-200f658d80b2"
      },
      "outputs": [
        {
          "data": {
            "text/plain": [
              "ChatGroq(client=<groq.resources.chat.completions.Completions object at 0x7903995c9490>, async_client=<groq.resources.chat.completions.AsyncCompletions object at 0x7903995c91d0>, model_name='Gemma2-9b-It', model_kwargs={}, groq_api_key=SecretStr('**********'))"
            ]
          },
          "execution_count": 239,
          "metadata": {},
          "output_type": "execute_result"
        }
      ],
      "source": [
        "llm = ChatGroq(api_key = api_key , model_name = \"Gemma2-9b-It\" )\n",
        "llm"
      ]
    },
    {
      "cell_type": "code",
      "execution_count": 240,
      "metadata": {
        "id": "gXhiiZWZEGPU"
      },
      "outputs": [],
      "source": [
        "llm_with_tools = llm.bind_tools(tools=tools)"
      ]
    },
    {
      "cell_type": "code",
      "execution_count": 241,
      "metadata": {
        "id": "i2_0iLqAEvFL"
      },
      "outputs": [],
      "source": [
        "def chatbot(state:State) :\n",
        "\n",
        "  return{\"messages\": [llm.invoke(state[\"messages\"])]}"
      ]
    },
    {
      "cell_type": "markdown",
      "metadata": {
        "id": "a4BZhLkD0FiF"
      },
      "source": [
        "#### Groq Chatbot LLM: Solving General Queries\n",
        "\n",
        "The `chatbot` node, powered by Groq's high-speed LLM, is capable of understanding and answering general user queries. It forms the core conversational layer of WeatherMind, handling natural language prompts with accurate and fast responses.\n",
        "\n",
        "**Example:**  \n",
        "> \"Who is the president of India?\"  \n",
        "→ The chatbot responds using Groq's LLM without needing any tool invocation.\n"
      ]
    },
    {
      "cell_type": "code",
      "execution_count": 242,
      "metadata": {
        "colab": {
          "base_uri": "https://localhost:8080/"
        },
        "id": "IN6XM4O7parC",
        "outputId": "5703f7d9-ffc1-40e1-9fb4-f1d2265ff2d8"
      },
      "outputs": [
        {
          "name": "stdout",
          "output_type": "stream",
          "text": [
            "User: hi\n",
            "Assistant: Hello! 👋 \n",
            "\n",
            "How can I help you today? 😊\n",
            "User: tell me a joke\n",
            "Assistant: Why don't scientists trust atoms? \n",
            "\n",
            "Because they make up everything! 😄\n",
            "User: who is president of india?\n",
            "Assistant: The President of India is **Droupadi Murmu**. \n",
            "\n",
            "She assumed office on July 25, 2022.\n",
            "User: explain LLM short\n",
            "Assistant: LLM stands for **Large Language Model**. \n",
            "\n",
            "Think of it as a super-smart computer program trained on massive amounts of text data. This training allows it to understand and generate human-like text in response to a wide range of prompts and questions. \n",
            "\n",
            "Here's a breakdown:\n",
            "\n",
            "* **Large:** LLMs have billions, sometimes even trillions, of parameters. These parameters are like the connections in a brain, allowing the model to learn complex patterns in language.\n",
            "* **Language:**  LLMs are specifically designed to work with language. They can read, understand, and generate text in various forms like sentences, paragraphs, stories, and even code.\n",
            "* **Model:**  LLMs are statistical models. They learn the probabilities of words appearing together based on the data they were trained on.\n",
            "\n",
            "**Examples of LLMs:**\n",
            "\n",
            "* ChatGPT\n",
            "* LaMDA (by Google)\n",
            "* GPT-3 (by OpenAI)\n",
            "* BERT\n",
            "\n",
            "**What can LLMs do?**\n",
            "\n",
            "* **Chat and converse:**  Engage in natural-sounding conversations.\n",
            "* **Generate creative content:** Write stories, poems, articles, and even code.\n",
            "* **Translate languages:**  Convert text from one language to another.\n",
            "* **Summarize text:**  Condense large amounts of information into shorter summaries.\n",
            "* **Answer questions:**  Provide information based on the knowledge they have acquired.\n",
            "\n",
            "\n",
            "LLMs are powerful tools with the potential to revolutionize many aspects of our lives.\n",
            "User: q\n",
            "Good Bye\n"
          ]
        }
      ],
      "source": [
        "from langchain_core.messages import AIMessage\n",
        "\n",
        "while True:\n",
        "    user_input = input(\"User: \")\n",
        "    if user_input.lower() in [\"quit\", \"q\"]:\n",
        "        print(\"Good Bye\")\n",
        "        break\n",
        "\n",
        "    for event in graph.stream({'messages': [(\"user\", user_input)]}, stream_mode=\"values\"):\n",
        "        # Each event is a dictionary like {'messages': [AIMessage(...)]}\n",
        "        messages = event.get(\"messages\", [])\n",
        "        for msg in messages:\n",
        "            if isinstance(msg, AIMessage) and msg.content.strip() and \"<tool-use>\" not in msg.content:\n",
        "                print(\"Assistant:\", msg.content.strip())\n"
      ]
    },
    {
      "cell_type": "markdown",
      "metadata": {
        "id": "y-PUpY0s0ajA"
      },
      "source": [
        "#### LangGraph Wiring: Neural Pathways\n",
        "\n",
        "Using LangGraph, we wire the chatbot and calculator tools into a functional graph. This represents the neural pathways of WeatherMind—enabling it to reason and act through structured flows.\n"
      ]
    },
    {
      "cell_type": "code",
      "execution_count": 243,
      "metadata": {
        "colab": {
          "base_uri": "https://localhost:8080/"
        },
        "id": "slm0pl_eFC8g",
        "outputId": "f2f038f4-4245-4aa9-a66e-bb884143ddb0"
      },
      "outputs": [
        {
          "data": {
            "text/plain": [
              "<langgraph.graph.state.StateGraph at 0x79039907bb10>"
            ]
          },
          "execution_count": 243,
          "metadata": {},
          "output_type": "execute_result"
        }
      ],
      "source": [
        "graph_builder.add_node(\"chatbot\",chatbot)\n",
        "graph_builder.add_edge(START,\"chatbot\")\n",
        "tool_node=ToolNode(tools=tools)\n",
        "graph_builder.add_node(\"tools\",tool_node)\n",
        "\n",
        "graph_builder.add_conditional_edges(\n",
        "    \"chatbot\",\n",
        "    tools_condition\n",
        ")\n",
        "graph_builder.add_edge(\"tools\",\"chatbot\")\n",
        "graph_builder.add_edge(\"chatbot\",END)\n"
      ]
    },
    {
      "cell_type": "code",
      "execution_count": 244,
      "metadata": {
        "id": "E-flcQmvGhLi"
      },
      "outputs": [],
      "source": [
        "graph = graph_builder.compile()"
      ]
    },
    {
      "cell_type": "markdown",
      "metadata": {
        "id": "Cst3fVOq0iz_"
      },
      "source": [
        "#### Neural Graph Visualization\n",
        "\n",
        "We render the LangGraph to visually depict the structure of nodes and their connections. This image showcases the “awakening” of WeatherMind—the architecture of its digital brain.\n",
        "\n",
        "The following cell renders the graph and opens the image:\n"
      ]
    },
    {
      "cell_type": "code",
      "execution_count": 245,
      "metadata": {
        "colab": {
          "base_uri": "https://localhost:8080/",
          "height": 266
        },
        "id": "XbAOs5VSHSyq",
        "outputId": "57355042-6c4b-4c5f-808a-38d779a24203"
      },
      "outputs": [
        {
          "data": {
            "image/png": "[encoded data removed]",
            "text/plain": [
              "<IPython.core.display.Image object>"
            ]
          },
          "metadata": {},
          "output_type": "display_data"
        }
      ],
      "source": [
        "from IPython.display import Image, display\n",
        "try:\n",
        "  display(Image(graph.get_graph().draw_mermaid_png()))\n",
        "except Exception:\n",
        "    pass"
      ]
    },
    {
      "cell_type": "markdown",
      "metadata": {
        "id": "ZXHrntO0N2_O"
      },
      "source": [
        " **Level 1 Complete**  \n",
        "WeatherMind is now alive with:\n",
        "- A voice: powered by Groq’s LLM.\n",
        "- A brain for math: via the BODMAS-aware calculator tool.\n",
        "- A neural structure: visualized with LangGraph.\n"
      ]
    },
    {
      "cell_type": "markdown",
      "metadata": {
        "id": "8NB0AtOr1S6x"
      },
      "source": [
        "#### **Level 2: Senses of the World**  - Weather and Fashion Recommender\n",
        "\n",
        "\n",
        "- **Fashion Recommender Tool:** Extracts location from queries and fetches real-time fashion trends using Google Trends.\n",
        "- **Weather Extractor Tool:** Extracts location and retrieves current weather conditions via OpenWeatherMap API.\n",
        "----\n",
        "\n",
        "\n",
        "\n",
        "\n",
        "\n"
      ]
    },
    {
      "cell_type": "markdown",
      "metadata": {
        "id": "SSVx5wAqG88E"
      },
      "source": [
        "#### Extract Location and Detect Intent\n",
        "\n",
        "This cell uses spaCy to extract geographical locations (GPE) from user queries. It also detects the user’s intent, whether they want weather information or fashion trends, by searching for keywords in the query.\n"
      ]
    },
    {
      "cell_type": "code",
      "execution_count": 246,
      "metadata": {
        "id": "Jv6XfRz10r2x"
      },
      "outputs": [],
      "source": [
        "import spacy\n",
        "nlp = spacy.load(\"en_core_web_sm\")\n",
        "\n",
        "def extract_location(query):\n",
        "    doc = nlp(query)\n",
        "    for ent in doc.ents:\n",
        "        if ent.label_ == \"GPE\":\n",
        "            return ent.text\n",
        "    return None\n",
        "\n",
        "def detect_intent(query):\n",
        "    query = query.lower()\n",
        "    if \"weather\" in query or \"rain\" in query or \"sunny\" in query:\n",
        "        return \"weather\"\n",
        "    elif \"fashion\" in query or \"style\" in query or \"trend\" in query:\n",
        "        return \"fashion\"\n",
        "    return None"
      ]
    },
    {
      "cell_type": "markdown",
      "metadata": {
        "id": "3npVkKLhHIbe"
      },
      "source": [
        "#### Fetch Current Weather Data\n",
        "\n",
        "This cell defines a function to fetch real-time weather data for a given location using the OpenWeatherMap API. It returns the current temperature and weather description.\n"
      ]
    },
    {
      "cell_type": "code",
      "execution_count": 247,
      "metadata": {
        "id": "jIR38Ici37Yg"
      },
      "outputs": [],
      "source": [
        "import requests\n",
        "\n",
        "def get_weather(location):\n",
        "\n",
        "    url = f\"http://api.openweathermap.org/data/2.5/weather?q={location}&appid={weather_api_key}&units=metric\"\n",
        "\n",
        "    try:\n",
        "        response = requests.get(url)\n",
        "        data = response.json()\n",
        "\n",
        "        if response.status_code != 200:\n",
        "            return {\"error\": f\"{data.get('message', 'Weather data not found.')} (Status code: {response.status_code})\"}\n",
        "\n",
        "        return {\n",
        "            \"location\": location,\n",
        "            \"temperature\": data[\"main\"][\"temp\"],\n",
        "            \"description\": data[\"weather\"][0][\"description\"]\n",
        "        }\n",
        "\n",
        "    except Exception as e:\n",
        "        return {\"error\": f\"Exception occurred: {str(e)}\"}"
      ]
    },
    {
      "cell_type": "markdown",
      "metadata": {
        "id": "P9Qgee5HHORK"
      },
      "source": [
        "#### Install and Import Pytrends\n",
        "\n",
        "This cell installs the `pytrends` library and imports necessary modules to interact with Google Trends for fetching fashion trend data.\n",
        "#### Fetch Fashion Trends\n",
        "\n",
        "This cell defines a function that queries Google Trends for fashion-related keywords both general and location-specific. It safely handles cases where no trend data is found and returns the top trending fashion queries.\n",
        "\n"
      ]
    },
    {
      "cell_type": "code",
      "execution_count": 248,
      "metadata": {
        "colab": {
          "base_uri": "https://localhost:8080/"
        },
        "id": "6pjPr14crB-0",
        "outputId": "93eff971-1b93-495c-e674-002798611dde"
      },
      "outputs": [
        {
          "name": "stdout",
          "output_type": "stream",
          "text": [
            "Requirement already satisfied: pytrends in /usr/local/lib/python3.11/dist-packages (4.9.2)\n",
            "Requirement already satisfied: requests>=2.0 in /usr/local/lib/python3.11/dist-packages (from pytrends) (2.32.3)\n",
            "Requirement already satisfied: pandas>=0.25 in /usr/local/lib/python3.11/dist-packages (from pytrends) (2.2.2)\n",
            "Requirement already satisfied: lxml in /usr/local/lib/python3.11/dist-packages (from pytrends) (5.4.0)\n",
            "Requirement already satisfied: numpy>=1.23.2 in /usr/local/lib/python3.11/dist-packages (from pandas>=0.25->pytrends) (2.0.2)\n",
            "Requirement already satisfied: python-dateutil>=2.8.2 in /usr/local/lib/python3.11/dist-packages (from pandas>=0.25->pytrends) (2.9.0.post0)\n",
            "Requirement already satisfied: pytz>=2020.1 in /usr/local/lib/python3.11/dist-packages (from pandas>=0.25->pytrends) (2025.2)\n",
            "Requirement already satisfied: tzdata>=2022.7 in /usr/local/lib/python3.11/dist-packages (from pandas>=0.25->pytrends) (2025.2)\n",
            "Requirement already satisfied: charset-normalizer<4,>=2 in /usr/local/lib/python3.11/dist-packages (from requests>=2.0->pytrends) (3.4.2)\n",
            "Requirement already satisfied: idna<4,>=2.5 in /usr/local/lib/python3.11/dist-packages (from requests>=2.0->pytrends) (3.10)\n",
            "Requirement already satisfied: urllib3<3,>=1.21.1 in /usr/local/lib/python3.11/dist-packages (from requests>=2.0->pytrends) (2.4.0)\n",
            "Requirement already satisfied: certifi>=2017.4.17 in /usr/local/lib/python3.11/dist-packages (from requests>=2.0->pytrends) (2025.4.26)\n",
            "Requirement already satisfied: six>=1.5 in /usr/local/lib/python3.11/dist-packages (from python-dateutil>=2.8.2->pandas>=0.25->pytrends) (1.17.0)\n"
          ]
        },
        {
          "data": {
            "text/plain": [
              "{'location': 'Paris', 'temperature': 18.59, 'description': 'broken clouds'}"
            ]
          },
          "execution_count": 248,
          "metadata": {},
          "output_type": "execute_result"
        }
      ],
      "source": [
        "!pip install pytrends\n",
        "from pytrends.request import TrendReq\n",
        "from pytrends.request import TrendReq\n",
        "import pandas as pd\n",
        "\n",
        "def get_fashion_trends(location):\n",
        "    pytrends = TrendReq(hl='en-US', tz=360)\n",
        "    kw_list = [f\"{location} fashion\", \"fashion\", f\"style in {location}\"]\n",
        "\n",
        "    try:\n",
        "        pytrends.build_payload(kw_list, cat=0, timeframe='now 7-d')\n",
        "        related = pytrends.related_queries()\n",
        "        results = []\n",
        "\n",
        "        for kw in kw_list:\n",
        "            data = related.get(kw)\n",
        "            if not data:\n",
        "                continue\n",
        "            top_data = data.get(\"top\")\n",
        "            if isinstance(top_data, pd.DataFrame) and not top_data.empty:\n",
        "                results.extend(top_data[\"query\"].head(5).tolist())\n",
        "\n",
        "        if not results:\n",
        "            return {\"location\": location, \"trending_styles\": [\"No fashion trends found.\"]}\n",
        "\n",
        "        return {\"location\": location, \"trending_styles\": list(set(results))}\n",
        "\n",
        "    except Exception as e:\n",
        "        return {\"location\": location, \"error\": f\"Exception: {str(e)}\"}\n",
        "\n",
        "\n",
        "def handle_query(user_query):\n",
        "    location = extract_location(user_query)\n",
        "    intent = detect_intent(user_query)\n",
        "\n",
        "    if not location:\n",
        "        return {\"error\": \"Couldn't extract a location from your query.\"}\n",
        "\n",
        "    if intent == \"weather\":\n",
        "        return get_weather(location)\n",
        "    elif intent == \"fashion\":\n",
        "        return get_fashion_trends(location)\n",
        "    else:\n",
        "        return {\"error\": \"Unknown query type. Please ask about weather or fashion.\"}\n",
        "handle_query(\"What's weather in Paris ?\")\n"
      ]
    },
    {
      "cell_type": "markdown",
      "metadata": {
        "id": "j5uxZCQFHXXX"
      },
      "source": [
        "#### Handle User Query\n",
        "\n",
        "This cell processes the user query by extracting the location and intent, then calls the appropriate function (`get_weather` or `get_fashion_trends`) based on detected intent. It provides error messages for unknown intents or missing locations.\n"
      ]
    },
    {
      "cell_type": "code",
      "execution_count": 249,
      "metadata": {
        "colab": {
          "base_uri": "https://localhost:8080/"
        },
        "id": "1X_SQBtF4TV3",
        "outputId": "d371c8cb-3be4-4d49-b69d-76909a7eb139"
      },
      "outputs": [
        {
          "data": {
            "text/plain": [
              "{'location': 'Paris', 'temperature': 18.59, 'description': 'broken clouds'}"
            ]
          },
          "execution_count": 249,
          "metadata": {},
          "output_type": "execute_result"
        }
      ],
      "source": [
        "def handle_query(user_query):\n",
        "    location = extract_location(user_query)\n",
        "    intent = detect_intent(user_query)\n",
        "\n",
        "    if not location:\n",
        "        return {\"error\": \"Couldn't extract a location from your query.\"}\n",
        "\n",
        "    if intent == \"weather\":\n",
        "        return get_weather(location)\n",
        "    elif intent == \"fashion\":\n",
        "        return get_fashion_trends(location)\n",
        "    else:\n",
        "        return {\"error\": \"Unknown query type. Please ask about weather or fashion.\"}\n",
        "\n",
        "handle_query(\"What's weather in Paris ?\")\n",
        "\n"
      ]
    }
  ],
  "metadata": {
    "accelerator": "GPU",
    "colab": {
      "gpuType": "T4",
      "provenance": []
    },
    "kernelspec": {
      "display_name": "Python 3",
      "name": "python3"
    },
    "language_info": {
      "name": "python"
    }
  },
  "nbformat": 4,
  "nbformat_minor": 0
}
